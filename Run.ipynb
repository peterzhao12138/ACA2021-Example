{
  "cells": [
    {
      "cell_type": "code",
      "execution_count": null,
      "metadata": {
        "id": "wygpkVyD7OlY"
      },
      "outputs": [],
      "source": [
        "import time\n",
        "import numpy as np\n",
        "import pickle\n",
        "import matplotlib.pyplot as plt\n",
        "from IPython.display import clear_output\n",
        "import random\n",
        "import board"
      ]
    },
    {
      "cell_type": "code",
      "execution_count": null,
      "metadata": {
        "id": "UsuL4qQj7Ola"
      },
      "outputs": [],
      "source": [
        "'''\n",
        "Game info (game status and show status)\n",
        "\n",
        "'''\n",
        "def gamestatus(game, maxnum=12):\n",
        "    counter = [0]*maxnum\n",
        "    for i in game.tile:\n",
        "        counter[i]+=1\n",
        "    return np.array(counter) / len(game.tile)\n",
        "\n",
        "def showstatus(game):\n",
        "    s = \"\"\n",
        "    for i, p in enumerate(gamestatus(game)):\n",
        "        s += \"{:4d}:[{:3.1f}] \".format(1<<i & -2, p*100.0)\n",
        "    return s\n",
        "\n",
        "def find_isomorphic_pattern(pattern):\n",
        "    a = board(list(range(16)))\n",
        "\n",
        "    isomorphic_pattern = []\n",
        "    for i in range(8):\n",
        "        if (i >= 4):\n",
        "            b = board( a.mirror().tile )\n",
        "        else:\n",
        "            b = board( a.tile )\n",
        "        for _ in range(i%4):\n",
        "            b = b.rotate()\n",
        "        isomorphic_pattern.append(np.array(b.tile)[pattern])\n",
        "        \n",
        "    return isomorphic_pattern"
      ]
    },
    {
      "cell_type": "code",
      "execution_count": null,
      "metadata": {
        "id": "4EQkdNCB7Olb"
      },
      "outputs": [],
      "source": [
        "'''\n",
        "Tuple Net Implementation\n",
        "\n",
        "'''\n",
        "class TuplesNet():\n",
        "    def __init__(self, pattern, maxnum):\n",
        "        self.V = np.zeros(([maxnum]*len(pattern)))\n",
        "        self.pattern = pattern\n",
        "        self.isomorphic_pattern = find_isomorphic_pattern(self.pattern)\n",
        "        \n",
        "    def getState(self, tile):\n",
        "        return [tuple(np.array(tile)[p]) for p in self.isomorphic_pattern]\n",
        "    \n",
        "    def getValue(self, tile):\n",
        "        S = self.getState(tile)     \n",
        "        V = [self.V[s] for s in S]     \n",
        "        # sum up the isomorphic pattern\n",
        "        V = sum(V)\n",
        "        return V\n",
        "\n",
        "    def setValue(self, tile, v, reset=False):\n",
        "        S = self.getState(tile)\n",
        "        \n",
        "        # Initialize isomorphic pattern\n",
        "        v /= len(self.isomorphic_pattern)\n",
        "        V = 0.0\n",
        "        for s in S:\n",
        "            self.V[s] += v        \n",
        "            V += self.V[s]\n",
        "        return V"
      ]
    },
    {
      "cell_type": "code",
      "execution_count": null,
      "metadata": {
        "id": "JP_tiDg57Olc"
      },
      "outputs": [],
      "source": [
        "'''\n",
        "\n",
        "Reinforcement Learning Agent Implementation\n",
        "\n",
        "'''\n",
        "\n",
        "class Agent():\n",
        "\n",
        "    def __init__(self, patterns, maxnum):\n",
        "        self.Tuples = []\n",
        "        for p in patterns:\n",
        "            self.Tuples.append(TuplesNet(p, maxnum))\n",
        "        self.metrics = []\n",
        "\n",
        "    def changeStage(self):\n",
        "        for tu in self.Tuples:\n",
        "          tu.V = 0\n",
        "\n",
        "    def getValue(self, tile):\n",
        "        V = [t.getValue(tile) for t in self.Tuples]\n",
        "        V = sum(V)\n",
        "        \n",
        "        return V\n",
        "    \n",
        "    def setValue(self, tile, v, reset=False):\n",
        "        v /= len(self.Tuples)\n",
        "        V = 0.0\n",
        "        for t in self.Tuples:\n",
        "            V += t.setValue(tile, v, reset)\n",
        "        return V\n",
        "    \n",
        "\n",
        "    def evaulate(self, next_games):\n",
        "        return [ng[1] + self.getValue(ng[0].tile) for ng in next_games]\n",
        "    \n",
        "    def learn(self, records, lr):      # learning part of the agent\n",
        "        exact = 0.0\n",
        "        for s, a, r, s_, s__ in records: \n",
        "\n",
        "            error = exact - self.getValue(s_)\n",
        "            exact = r + self.setValue(s_, lr*error)\n",
        "    \n",
        "    '''\n",
        "    Function for result analysis\n",
        "    '''    \n",
        "    def showStattistic(self, epoch, unit, show=True):\n",
        "        metrics = np.array(self.metrics[epoch-unit:epoch])\n",
        "        score_mean = np.mean(metrics[:, 0])\n",
        "        score_max = np.max(metrics[:, 0])       \n",
        "        if show:\n",
        "            print('{:<8d}mean = {:<8.0f} max = {:<8.0f}'.format(epoch, score_mean, score_max))      \n",
        "        if (metrics.shape[1] < 3):\n",
        "            return score_mean, score_max      \n",
        "        reach_nums = np.array([1<<max(end) & -2 for end in end_games])\n",
        "                  \n",
        "        if show:\n",
        "            print('\\n')       \n",
        "        score_stat = []\n",
        "        \n",
        "        for num in np.sort(np.unique(reach_nums)):\n",
        "            reachs = np.count_nonzero(reach_nums >= num)\n",
        "            reachs = (reachs*100)/len(metrics)         \n",
        "            ends = np.count_nonzero(reach_nums == num)\n",
        "            ends = (ends*100)/len(metrics)           \n",
        "            if show:\n",
        "                print('{:<5d}  {:3.1f} % ({:3.1f} %)'.format(num, reachs, ends) )            \n",
        "            score_stat.append( (num, reachs, ends) )      \n",
        "        score_stat = np.array(score_stat)       \n",
        "        return score_mean, score_max, score_stat\n",
        "    \n",
        "\n",
        "    def train(self, epoch_size, lr=0.1, showsize=1000): #Learning Rate is set to 0.1\n",
        "        start_epoch = len(self.metrics)\n",
        "        for epoch in range(start_epoch, epoch_size):       \n",
        "            score = 0.0\n",
        "            game = board().popup().popup()\n",
        "            records = []\n",
        "            records1024 = []\n",
        "            records2048 = []\n",
        "            stage = False;\n",
        "            while True:            \n",
        "                next_games = [game.up(), game.down(), game.left(), game.right()]\n",
        "                action = np.argmax(self.evaulate(next_games))   \n",
        "                next_game, reward = next_games[action]\n",
        "                \n",
        "                if game.end():\n",
        "                    break\n",
        "                       \n",
        "                next_game_after = next_game.popup()          \n",
        "                score += reward                      \n",
        "                if (max(np.array(game.tile)>=10)):\n",
        "                  records1024.insert(0, (game.tile, action, reward, next_game.tile, next_game_after.tile) )\n",
        "                else:\n",
        "                  records.insert(0, (game.tile, action, reward, next_game.tile, next_game_after.tile) )                             \n",
        "                game = next_game_after\n",
        "           \n",
        "            # learning corresponding to different stages\n",
        "            if (max(np.array(game.tile)==10)):\n",
        "              self.learn(records1024, lr)\n",
        "              self.metrics.append( (score, len(records1024), game.tile) )\n",
        "            elif (max(np.array(game.tile)==11)):\n",
        "              self.learn(records2048, lr)\n",
        "              self.metrics.append( (score, len(records2048), game.tile) )\n",
        "            else:\n",
        "              self.learn(records, lr)\n",
        "              self.metrics.append( (score, len(records), game.tile) )\n",
        "         \n",
        "            if (epoch+1) % showsize == 0:\n",
        "                clear_output(wait=True)\n",
        "                self.showStattistic(epoch+1, showsize)          \n",
        "\n",
        "    ''' \n",
        "    Play the game\n",
        "    '''\n",
        "    def play(self, game):\n",
        "        next_games = [game.up(), game.down(), game.left(), game.right()]\n",
        "        action = np.argmax(self.evaulate(next_games))\n",
        "                \n",
        "        next_game, reward = next_games[action]\n",
        "        return next_game, reward, ['up', 'down', 'left', 'right'][action]"
      ]
    },
    {
      "cell_type": "code",
      "execution_count": null,
      "metadata": {
        "id": "8wANKcGv7Old"
      },
      "outputs": [],
      "source": [
        "# Control Variables\n",
        "MAX_NUM = 15 \n",
        "TUPLE_NUM = 6 \n",
        "PATTERN_NUM = 4\n",
        "ACTION_NUM = 4 \n",
        "\n",
        "PATTERNS = [\n",
        "    [0,1,2,3,4,5],\n",
        "    [4,5,6,7,8,9],\n",
        "    [0,1,2,4,5,6],\n",
        "    [4,5,6,8,9,10]\n",
        "]"
      ]
    },
    {
      "cell_type": "code",
      "execution_count": null,
      "metadata": {
        "id": "vAd8Mtk97Old"
      },
      "outputs": [],
      "source": [
        "#random.seed(20211212)\n",
        "agent = Agent(PATTERNS, MAX_NUM)"
      ]
    },
    {
      "cell_type": "code",
      "execution_count": null,
      "metadata": {
        "id": "v3bxv723Xn2X",
        "outputId": "62c11e46-7039-48ed-c725-cd0118850c24"
      },
      "outputs": [
        {
          "name": "stdout",
          "output_type": "stream",
          "text": [
            "50000   mean = 31335    max = 82953   \n",
            "\n",
            "\n",
            "64     100.0 % (0.3 %)\n",
            "128    99.7 % (0.4 %)\n",
            "256    99.3 % (1.6 %)\n",
            "512    97.7 % (7.1 %)\n",
            "1024   90.6 % (24.4 %)\n",
            "2048   66.2 % (51.4 %)\n",
            "4096   14.8 % (14.8 %)\n",
            "Wall time: 9h 25min 28s\n"
          ]
        }
      ],
      "source": [
        "%%time \n",
        "# 50000 epoches for three stages (change at 1024 and 2048)\n",
        "agent.train(50000)"
      ]
    },
    {
      "cell_type": "code",
      "execution_count": null,
      "metadata": {
        "colab": {
          "base_uri": "https://localhost:8080/"
        },
        "id": "kWju3imuKz7k",
        "outputId": "81925dc7-e4a8-4a41-f7d4-007e0d20d527"
      },
      "outputs": [
        {
          "name": "stdout",
          "output_type": "stream",
          "text": [
            "10000   mean = 17091    max = 55309   \n",
            "\n",
            "\n",
            "64     100.0 % (0.3 %)\n",
            "128    99.7 % (0.5 %)\n",
            "256    99.2 % (2.6 %)\n",
            "512    96.6 % (18.3 %)\n",
            "1024   78.3 % (57.3 %)\n",
            "2048   21.0 % (20.7 %)\n",
            "4096   0.3 % (0.3 %)\n",
            "CPU times: user 2h 10min 21s, sys: 1min 22s, total: 2h 11min 43s\n",
            "Wall time: 2h 9min 18s\n"
          ]
        }
      ],
      "source": [
        "%%time \n",
        "# 10000 epoches for three stages (change at 1024 and 2048)\n",
        "agent.train(10000)"
      ]
    },
    {
      "cell_type": "code",
      "execution_count": null,
      "metadata": {
        "colab": {
          "base_uri": "https://localhost:8080/"
        },
        "id": "YZ1NVughOi3u",
        "outputId": "74c33e4a-b4be-4e23-936b-8a29bbb17d57"
      },
      "outputs": [
        {
          "name": "stdout",
          "output_type": "stream",
          "text": [
            "10000   mean = 17612    max = 57089   \n",
            "\n",
            "\n",
            "64     100.0 % (0.2 %)\n",
            "128    99.8 % (0.7 %)\n",
            "256    99.1 % (2.9 %)\n",
            "512    96.2 % (18.2 %)\n",
            "1024   78.0 % (54.6 %)\n",
            "2048   23.4 % (22.9 %)\n",
            "4096   0.5 % (0.5 %)\n",
            "CPU times: user 2h 16min 33s, sys: 1min 26s, total: 2h 18min\n",
            "Wall time: 2h 15min 41s\n"
          ]
        }
      ],
      "source": [
        "%%time \n",
        "# 10000 epoches for two stages (change at 1024)\n",
        "agent.train(10000)"
      ]
    },
    {
      "cell_type": "code",
      "execution_count": null,
      "metadata": {
        "colab": {
          "base_uri": "https://localhost:8080/"
        },
        "id": "vxFwWBcw7Old",
        "outputId": "3b2ff271-d42d-430b-aeaf-aa0f467b492c"
      },
      "outputs": [
        {
          "name": "stdout",
          "output_type": "stream",
          "text": [
            "10000   mean = 19367    max = 60471   \n",
            "\n",
            "\n",
            "32     100.0 % (0.1 %)\n",
            "64     99.9 % (0.1 %)\n",
            "128    99.8 % (0.9 %)\n",
            "256    98.9 % (2.0 %)\n",
            "512    96.9 % (12.6 %)\n",
            "1024   84.3 % (53.0 %)\n",
            "2048   31.3 % (31.0 %)\n",
            "4096   0.3 % (0.3 %)\n",
            "CPU times: user 2h 36min 40s, sys: 1min 18s, total: 2h 37min 58s\n",
            "Wall time: 2h 35min 50s\n"
          ]
        }
      ],
      "source": [
        "# 10000 epoches for one stages\n",
        "%%time\n",
        "agent.train(10000)"
      ]
    },
    {
      "cell_type": "code",
      "execution_count": null,
      "metadata": {
        "colab": {
          "background_save": true,
          "base_uri": "https://localhost:8080/"
        },
        "id": "QZVaeIFX7Ole",
        "outputId": "1f2c7a3e-97fd-4eb7-9c5f-648c2184a2ae"
      },
      "outputs": [
        {
          "name": "stderr",
          "output_type": "stream",
          "text": [
            "/usr/local/lib/python3.7/dist-packages/ipykernel_launcher.py:63: VisibleDeprecationWarning: Creating an ndarray from ragged nested sequences (which is a list-or-tuple of lists-or-tuples-or ndarrays with different lengths or shapes) is deprecated. If you meant to do this, you must specify 'dtype=object' when creating the ndarray\n"
          ]
        },
        {
          "name": "stdout",
          "output_type": "stream",
          "text": [
            "1000    mean = 4667     max = 17794   \n",
            "\n",
            "\n",
            "64     100.0 % (2.7 %)\n",
            "128    97.3 % (20.3 %)\n",
            "256    77.0 % (36.1 %)\n",
            "512    40.9 % (36.2 %)\n",
            "1024   4.7 % (4.7 %)\n",
            "2000    mean = 8200     max = 25754   \n",
            "\n",
            "\n",
            "64     100.0 % (0.3 %)\n",
            "128    99.7 % (2.5 %)\n",
            "256    97.2 % (14.9 %)\n",
            "512    82.3 % (61.8 %)\n",
            "1024   20.5 % (20.1 %)\n",
            "2048   0.4 % (0.4 %)\n",
            "3000    mean = 10109    max = 30321   \n",
            "\n",
            "\n",
            "64     100.0 % (0.2 %)\n",
            "128    99.8 % (1.5 %)\n",
            "256    98.3 % (8.7 %)\n",
            "512    89.6 % (50.7 %)\n",
            "1024   38.9 % (37.0 %)\n",
            "2048   1.9 % (1.9 %)\n",
            "4000    mean = 11733    max = 32707   \n",
            "\n",
            "\n",
            "128    100.0 % (0.9 %)\n",
            "256    99.1 % (6.1 %)\n",
            "512    93.0 % (42.1 %)\n",
            "1024   50.9 % (45.5 %)\n",
            "2048   5.4 % (5.4 %)\n",
            "5000    mean = 13151    max = 36834   \n",
            "\n",
            "\n",
            "64     100.0 % (0.1 %)\n",
            "128    99.9 % (1.1 %)\n",
            "256    98.8 % (4.9 %)\n",
            "512    93.9 % (31.7 %)\n",
            "1024   62.2 % (54.1 %)\n",
            "2048   8.1 % (8.1 %)\n",
            "6000    mean = 14652    max = 42742   \n",
            "\n",
            "\n",
            "64     100.0 % (0.2 %)\n",
            "128    99.8 % (0.7 %)\n",
            "256    99.1 % (3.3 %)\n",
            "512    95.8 % (26.0 %)\n",
            "1024   69.8 % (57.0 %)\n",
            "2048   12.8 % (12.8 %)\n",
            "7000    mean = 15567    max = 37707   \n",
            "\n",
            "\n",
            "64     100.0 % (0.5 %)\n",
            "128    99.5 % (0.9 %)\n",
            "256    98.6 % (3.0 %)\n",
            "512    95.6 % (22.1 %)\n",
            "1024   73.5 % (57.8 %)\n",
            "2048   15.7 % (15.7 %)\n",
            "8000    mean = 16879    max = 51549   \n",
            "\n",
            "\n",
            "64     100.0 % (0.3 %)\n",
            "128    99.7 % (0.4 %)\n",
            "256    99.3 % (2.0 %)\n",
            "512    97.3 % (19.7 %)\n",
            "1024   77.6 % (56.7 %)\n",
            "2048   20.9 % (20.8 %)\n",
            "4096   0.1 % (0.1 %)\n",
            "9000    mean = 17520    max = 52996   \n",
            "\n",
            "\n",
            "64     100.0 % (0.1 %)\n",
            "128    99.9 % (0.9 %)\n",
            "256    99.0 % (3.1 %)\n",
            "512    95.9 % (15.3 %)\n",
            "1024   80.6 % (57.9 %)\n",
            "2048   22.7 % (22.6 %)\n",
            "4096   0.1 % (0.1 %)\n",
            "10000   mean = 19367    max = 60471   \n",
            "\n",
            "\n",
            "32     100.0 % (0.1 %)\n",
            "64     99.9 % (0.1 %)\n",
            "128    99.8 % (0.9 %)\n",
            "256    98.9 % (2.0 %)\n",
            "512    96.9 % (12.6 %)\n",
            "1024   84.3 % (53.0 %)\n",
            "2048   31.3 % (31.0 %)\n",
            "4096   0.3 % (0.3 %)\n",
            "CPU times: user 2h 53min 31s, sys: 1min 24s, total: 2h 54min 56s\n",
            "Wall time: 2h 52min 35s\n"
          ]
        }
      ],
      "source": [
        "%%time\n",
        "agent.train(10000)"
      ]
    }
  ],
  "metadata": {
    "colab": {
      "name": "Run.ipynb",
      "provenance": [],
      "collapsed_sections": []
    },
    "kernelspec": {
      "display_name": "Python 3",
      "language": "python",
      "name": "python3"
    },
    "language_info": {
      "codemirror_mode": {
        "name": "ipython",
        "version": 3
      },
      "file_extension": ".py",
      "mimetype": "text/x-python",
      "name": "python",
      "nbconvert_exporter": "python",
      "pygments_lexer": "ipython3",
      "version": "3.8.8"
    }
  },
  "nbformat": 4,
  "nbformat_minor": 0
}